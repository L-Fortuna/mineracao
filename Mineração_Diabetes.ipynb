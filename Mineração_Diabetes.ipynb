{
  "nbformat": 4,
  "nbformat_minor": 0,
  "metadata": {
    "colab": {
      "provenance": [],
      "authorship_tag": "ABX9TyOOaq42wkQtM1dHdQUKzVgv",
      "include_colab_link": true
    },
    "kernelspec": {
      "name": "python3",
      "display_name": "Python 3"
    },
    "language_info": {
      "name": "python"
    }
  },
  "cells": [
    {
      "cell_type": "markdown",
      "metadata": {
        "id": "view-in-github",
        "colab_type": "text"
      },
      "source": [
        "<a href=\"https://colab.research.google.com/github/L-Fortuna/mineracao/blob/LFortuna/Minera%C3%A7%C3%A3o_Diabetes.ipynb\" target=\"_parent\"><img src=\"https://colab.research.google.com/assets/colab-badge.svg\" alt=\"Open In Colab\"/></a>"
      ]
    },
    {
      "cell_type": "markdown",
      "source": [
        "\n",
        "**TRABALHO PARA CONCLUSÃO DA DISCIPLINA DE MINERAÇÃO DE DADOS: EXTRAÇÃO DE DADOS COM OBJETIVO DE PREVER DIABETES EM MULHERES**\n",
        "---\n",
        "\n",
        "                                                      LARISSA GEMINIANO FORTUNA\n",
        "                                                      LEONARDO BEARARI SILVA\n",
        "                                                      PROF.DR. MURILO VARGES DA SILVA\n",
        "\n",
        "Base de dados: https://www.kaggle.com/code/rishpande/pima-indians-diabetes-beginner\n",
        "\n",
        "\n",
        "\n",
        "\n",
        "---\n",
        "\n",
        "\n",
        "\n",
        "Data: Pregnancies, Glucose, BloodPressure, SkinThickness, Insulin, BMI, DiabetesPedigreeFunction, Age, Outcome\n",
        "\n",
        "Features: 9\n",
        "\n",
        "Instances: 768\n",
        "\n",
        "Missing Values: 45\n",
        "\n",
        "---\n",
        "\n",
        "\n",
        "##**1 - PRÉ-PROCESSAMENTO:**\n",
        "---\n",
        "\n",
        "A princípio, foi escolhida a base de dados relacionada anteriormente com objetivo de explorar a previsão de casos de diabetes em mulheres, tendo em vista fatores como idade, gravidez, histórico familiar, entre outros. Dessa forma, ficou definido que a principal investigação é a classificação de mulheres com diabetes.\n",
        "\n",
        "-\n",
        "\n",
        "Dos atributos presentes na base de dados, temos:\n",
        "\n",
        "**Pregnancies** (Número de gravidezes de cada mulher); **Glucose** (Teste de glicose); **Blood Pressure** (Nível de pressão ); **SkinThickness** (Espessura da pele); **Insulin** (Nível de insulina baseado em testes); **BMI** (Íncice de Massa Corpórea); **DiabetesPedigreeFunction** (Histórico familiar - pessoas da famíia com diabetes); **Age** (Idade); **Outcome** (Resultado: 0 para não diabtes / 1 para diabetes).\n",
        "\n"
      ],
      "metadata": {
        "id": "_YWesYLHsXHM"
      }
    },
    {
      "cell_type": "markdown",
      "source": [],
      "metadata": {
        "id": "p2EbeWjiE_Yv"
      }
    },
    {
      "cell_type": "code",
      "source": [],
      "metadata": {
        "id": "5cJeW8m-Avq4"
      },
      "execution_count": null,
      "outputs": []
    }
  ]
}